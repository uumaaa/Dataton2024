{
 "cells": [
  {
   "cell_type": "code",
   "execution_count": 1,
   "id": "initial_id",
   "metadata": {
    "collapsed": true,
    "is_executing": true
   },
   "outputs": [],
   "source": [
    "import pandas as pd\n",
    "import numpy as np\n",
    "import os\n",
    "import matplotlib.pyplot as plt\n",
    "import seaborn as sns\n",
    "from unidecode import unidecode"
   ]
  },
  {
   "cell_type": "code",
   "execution_count": 2,
   "id": "ef87a825e05d5134",
   "metadata": {
    "collapsed": false
   },
   "outputs": [],
   "source": [
    "def create_dataframe(path):\n",
    "    total_df = pd.DataFrame()\n",
    "    folders = os.listdir(path)\n",
    "    for folder in folders:\n",
    "        files = os.listdir(os.path.join(path, folder))\n",
    "        for file in files:\n",
    "            if file.endswith(\".json\"):\n",
    "                df = pd.read_json(os.path.join(path,folder,file))\n",
    "                total_df = pd.concat([total_df,df])\n",
    "    return  total_df\n",
    "\n",
    "total_df = create_dataframe(\"s3p\")"
   ]
  },
  {
   "cell_type": "code",
   "execution_count": 3,
   "id": "114b1e5e",
   "metadata": {},
   "outputs": [
    {
     "data": {
      "text/html": [
       "<div>\n",
       "<style scoped>\n",
       "    .dataframe tbody tr th:only-of-type {\n",
       "        vertical-align: middle;\n",
       "    }\n",
       "\n",
       "    .dataframe tbody tr th {\n",
       "        vertical-align: top;\n",
       "    }\n",
       "\n",
       "    .dataframe thead th {\n",
       "        text-align: right;\n",
       "    }\n",
       "</style>\n",
       "<table border=\"1\" class=\"dataframe\">\n",
       "  <thead>\n",
       "    <tr style=\"text-align: right;\">\n",
       "      <th></th>\n",
       "      <th>id</th>\n",
       "      <th>fechaCaptura</th>\n",
       "      <th>expediente</th>\n",
       "      <th>institucionDependencia</th>\n",
       "      <th>particularSancionado</th>\n",
       "      <th>objetoContrato</th>\n",
       "      <th>autoridadSancionadora</th>\n",
       "      <th>tipoSancion</th>\n",
       "      <th>causaMotivoHechos</th>\n",
       "      <th>acto</th>\n",
       "      <th>resolucion</th>\n",
       "      <th>multa</th>\n",
       "      <th>inhabilitacion</th>\n",
       "      <th>observaciones</th>\n",
       "      <th>tipoFalta</th>\n",
       "      <th>responsableSancion</th>\n",
       "      <th>directorGeneral</th>\n",
       "      <th>apoderadoLegal</th>\n",
       "      <th>documentos</th>\n",
       "      <th>__v</th>\n",
       "    </tr>\n",
       "  </thead>\n",
       "  <tbody>\n",
       "    <tr>\n",
       "      <th>0</th>\n",
       "      <td>9</td>\n",
       "      <td>2023-10-19T00:00:00Z</td>\n",
       "      <td>J040/2021</td>\n",
       "      <td>{'nombre': 'PODER JUDICIAL DEL ESTADO DE BAJA ...</td>\n",
       "      <td>{'nombreRazonSocial': 'ABRAHAM ERNESTO COSIO T...</td>\n",
       "      <td>SENTENCIA CONDENATORIA</td>\n",
       "      <td>JUEZ DE CONTROL</td>\n",
       "      <td>[{'clave': 'I', 'valor': 'INHABILITADO'}, {'cl...</td>\n",
       "      <td>J040/2021</td>\n",
       "      <td>DELITO COMETIDO POR PARTICULAR</td>\n",
       "      <td>{'sentido': 'SENTENCIA CONDENATORIA', 'url': '...</td>\n",
       "      <td>{'monto': 3047, 'moneda': {'clave': 'MXN', 'va...</td>\n",
       "      <td>{'plazo': '15 AÑOS 2 MESES', 'fechaInicial': '...</td>\n",
       "      <td></td>\n",
       "      <td>NaN</td>\n",
       "      <td>NaN</td>\n",
       "      <td>NaN</td>\n",
       "      <td>NaN</td>\n",
       "      <td>NaN</td>\n",
       "      <td>NaN</td>\n",
       "    </tr>\n",
       "    <tr>\n",
       "      <th>1</th>\n",
       "      <td>39</td>\n",
       "      <td>2023-11-09T00:00:00Z</td>\n",
       "      <td>J157/2022</td>\n",
       "      <td>{'nombre': 'PODER JUDICIAL DEL ESTADO DE BAJA ...</td>\n",
       "      <td>{'nombreRazonSocial': 'ALVARO CAMPOS OROZCO', ...</td>\n",
       "      <td>SENTENCIA CONDENATORIA</td>\n",
       "      <td>JUEZ DE CONTROL</td>\n",
       "      <td>[{'clave': 'I', 'valor': 'INHABILITADO'}, {'cl...</td>\n",
       "      <td>J157/2022</td>\n",
       "      <td>DELITO COMETIDO POR PARTICULAR</td>\n",
       "      <td>{'sentido': 'SENTENCIA CONDENATORIA', 'url': '...</td>\n",
       "      <td>{'monto': 19244, 'moneda': {'clave': 'MXN', 'v...</td>\n",
       "      <td>{'plazo': '4 AÑOS', 'fechaInicial': '2022-11-2...</td>\n",
       "      <td></td>\n",
       "      <td>NaN</td>\n",
       "      <td>NaN</td>\n",
       "      <td>NaN</td>\n",
       "      <td>NaN</td>\n",
       "      <td>NaN</td>\n",
       "      <td>NaN</td>\n",
       "    </tr>\n",
       "    <tr>\n",
       "      <th>2</th>\n",
       "      <td>30</td>\n",
       "      <td>2023-11-09T00:00:00Z</td>\n",
       "      <td>J168/2019</td>\n",
       "      <td>{'nombre': 'PODER JUDICIAL DEL ESTADO DE BAJA ...</td>\n",
       "      <td>{'nombreRazonSocial': 'CRISTIAN SALVADOR AGUIL...</td>\n",
       "      <td>SENTENCIA CONDENATORIA</td>\n",
       "      <td>JUEZ DE CONTROL</td>\n",
       "      <td>[{'clave': 'I', 'valor': 'INHABILITADO'}, {'cl...</td>\n",
       "      <td>J168/2019</td>\n",
       "      <td>DELITO COMETIDO POR PARTICULAR</td>\n",
       "      <td>{'sentido': 'SENTENCIA CONDENATORIA', 'url': '...</td>\n",
       "      <td>{'monto': 0, 'moneda': {'clave': 'MXN', 'valor...</td>\n",
       "      <td>{'plazo': '12 AÑOS 6 MESES', 'fechaInicial': '...</td>\n",
       "      <td></td>\n",
       "      <td>NaN</td>\n",
       "      <td>NaN</td>\n",
       "      <td>NaN</td>\n",
       "      <td>NaN</td>\n",
       "      <td>NaN</td>\n",
       "      <td>NaN</td>\n",
       "    </tr>\n",
       "    <tr>\n",
       "      <th>3</th>\n",
       "      <td>13</td>\n",
       "      <td>2023-10-19T00:00:00Z</td>\n",
       "      <td>J026/2020</td>\n",
       "      <td>{'nombre': 'PODER JUDICIAL DEL ESTADO DE BAJA ...</td>\n",
       "      <td>{'nombreRazonSocial': 'DIEGO ARMANDO VILCHES O...</td>\n",
       "      <td>SENTENCIA CONDENATORIA</td>\n",
       "      <td>JUEZ DE CONTROL</td>\n",
       "      <td>[{'clave': 'I', 'valor': 'INHABILITADO'}, {'cl...</td>\n",
       "      <td>J026/2020</td>\n",
       "      <td>DELITO COMETIDO POR PARTICULAR</td>\n",
       "      <td>{'sentido': 'SENTENCIA CONDENATORIA', 'url': '...</td>\n",
       "      <td>NaN</td>\n",
       "      <td>{'plazo': '16 AÑOS 8 MESES', 'fechaInicial': '...</td>\n",
       "      <td></td>\n",
       "      <td>NaN</td>\n",
       "      <td>NaN</td>\n",
       "      <td>NaN</td>\n",
       "      <td>NaN</td>\n",
       "      <td>NaN</td>\n",
       "      <td>NaN</td>\n",
       "    </tr>\n",
       "  </tbody>\n",
       "</table>\n",
       "</div>"
      ],
      "text/plain": [
       "   id          fechaCaptura expediente  \\\n",
       "0   9  2023-10-19T00:00:00Z  J040/2021   \n",
       "1  39  2023-11-09T00:00:00Z  J157/2022   \n",
       "2  30  2023-11-09T00:00:00Z  J168/2019   \n",
       "3  13  2023-10-19T00:00:00Z  J026/2020   \n",
       "\n",
       "                              institucionDependencia  \\\n",
       "0  {'nombre': 'PODER JUDICIAL DEL ESTADO DE BAJA ...   \n",
       "1  {'nombre': 'PODER JUDICIAL DEL ESTADO DE BAJA ...   \n",
       "2  {'nombre': 'PODER JUDICIAL DEL ESTADO DE BAJA ...   \n",
       "3  {'nombre': 'PODER JUDICIAL DEL ESTADO DE BAJA ...   \n",
       "\n",
       "                                particularSancionado          objetoContrato  \\\n",
       "0  {'nombreRazonSocial': 'ABRAHAM ERNESTO COSIO T...  SENTENCIA CONDENATORIA   \n",
       "1  {'nombreRazonSocial': 'ALVARO CAMPOS OROZCO', ...  SENTENCIA CONDENATORIA   \n",
       "2  {'nombreRazonSocial': 'CRISTIAN SALVADOR AGUIL...  SENTENCIA CONDENATORIA   \n",
       "3  {'nombreRazonSocial': 'DIEGO ARMANDO VILCHES O...  SENTENCIA CONDENATORIA   \n",
       "\n",
       "  autoridadSancionadora                                        tipoSancion  \\\n",
       "0       JUEZ DE CONTROL  [{'clave': 'I', 'valor': 'INHABILITADO'}, {'cl...   \n",
       "1       JUEZ DE CONTROL  [{'clave': 'I', 'valor': 'INHABILITADO'}, {'cl...   \n",
       "2       JUEZ DE CONTROL  [{'clave': 'I', 'valor': 'INHABILITADO'}, {'cl...   \n",
       "3       JUEZ DE CONTROL  [{'clave': 'I', 'valor': 'INHABILITADO'}, {'cl...   \n",
       "\n",
       "  causaMotivoHechos                            acto  \\\n",
       "0         J040/2021  DELITO COMETIDO POR PARTICULAR   \n",
       "1         J157/2022  DELITO COMETIDO POR PARTICULAR   \n",
       "2         J168/2019  DELITO COMETIDO POR PARTICULAR   \n",
       "3         J026/2020  DELITO COMETIDO POR PARTICULAR   \n",
       "\n",
       "                                          resolucion  \\\n",
       "0  {'sentido': 'SENTENCIA CONDENATORIA', 'url': '...   \n",
       "1  {'sentido': 'SENTENCIA CONDENATORIA', 'url': '...   \n",
       "2  {'sentido': 'SENTENCIA CONDENATORIA', 'url': '...   \n",
       "3  {'sentido': 'SENTENCIA CONDENATORIA', 'url': '...   \n",
       "\n",
       "                                               multa  \\\n",
       "0  {'monto': 3047, 'moneda': {'clave': 'MXN', 'va...   \n",
       "1  {'monto': 19244, 'moneda': {'clave': 'MXN', 'v...   \n",
       "2  {'monto': 0, 'moneda': {'clave': 'MXN', 'valor...   \n",
       "3                                                NaN   \n",
       "\n",
       "                                      inhabilitacion observaciones tipoFalta  \\\n",
       "0  {'plazo': '15 AÑOS 2 MESES', 'fechaInicial': '...                     NaN   \n",
       "1  {'plazo': '4 AÑOS', 'fechaInicial': '2022-11-2...                     NaN   \n",
       "2  {'plazo': '12 AÑOS 6 MESES', 'fechaInicial': '...                     NaN   \n",
       "3  {'plazo': '16 AÑOS 8 MESES', 'fechaInicial': '...                     NaN   \n",
       "\n",
       "  responsableSancion directorGeneral apoderadoLegal documentos  __v  \n",
       "0                NaN             NaN            NaN        NaN  NaN  \n",
       "1                NaN             NaN            NaN        NaN  NaN  \n",
       "2                NaN             NaN            NaN        NaN  NaN  \n",
       "3                NaN             NaN            NaN        NaN  NaN  "
      ]
     },
     "execution_count": 3,
     "metadata": {},
     "output_type": "execute_result"
    }
   ],
   "source": [
    "total_df.head(4)"
   ]
  },
  {
   "cell_type": "markdown",
   "id": "6310d33f",
   "metadata": {},
   "source": [
    "## Resoluciones"
   ]
  },
  {
   "cell_type": "code",
   "execution_count": 4,
   "id": "251ddc9a",
   "metadata": {},
   "outputs": [
    {
     "name": "stdout",
     "output_type": "stream",
     "text": [
      "Existen 13 resoluciones diferentes\n",
      "---- \n",
      "---- absolutoria\n",
      "---- dato no proporcionado\n",
      "---- sancion economica\n",
      "---- sancionado con inhabilitacion y sancion economica\n",
      "---- sancionatoria\n",
      "---- sancionatoria con multa\n",
      "---- sancionatoria con multa e inhabilitacin\n",
      "---- sentencia condenatoria\n"
     ]
    }
   ],
   "source": [
    "resoluciones = []\n",
    "for index,row in total_df.iterrows():\n",
    "    resolucion = row['resolucion']\n",
    "    if(type(resolucion) != float):\n",
    "        if('sentido' in resolucion):\n",
    "            resoluciones.append(unidecode(resolucion['sentido'].lower()))\n",
    "        else:\n",
    "            resoluciones.append(\"dato no proporcionado\")\n",
    "    else:\n",
    "        resoluciones.append(\"dato no proporcionado\")\n",
    "\n",
    "print(f\"Existen {len(np.unique(resoluciones))} resoluciones diferentes\")\n",
    "for resolucion in np.unique(resoluciones):\n",
    "    if(len(resolucion) < 50):\n",
    "      print(f\"---- {resolucion}\")\n",
    "      "
   ]
  },
  {
   "cell_type": "markdown",
   "id": "ae468af4",
   "metadata": {},
   "source": [
    "## Actos"
   ]
  },
  {
   "cell_type": "code",
   "execution_count": 5,
   "id": "66fbb50f",
   "metadata": {},
   "outputs": [
    {
     "name": "stdout",
     "output_type": "stream",
     "text": [
      "Existen 12 actos delictivos diferentes\n",
      "---- \n",
      "---- Dato no proporcionado\n",
      "---- dato no proporcionado\n",
      "---- delito cometido por particular\n",
      "---- denuncia\n",
      "---- licitacion publica\n",
      "---- soborno\n"
     ]
    }
   ],
   "source": [
    "actos = []\n",
    "for index,row in total_df.iterrows():\n",
    "    acto = row['acto']\n",
    "    if (type(acto) != float):\n",
    "        actos.append(unidecode(acto.lower()))\n",
    "    else:\n",
    "        actos.append(\"Dato no proporcionado\")\n",
    "\n",
    "print(f\"Existen {len(np.unique(actos))} actos delictivos diferentes\")\n",
    "for acto in np.unique(actos):\n",
    "    if(len(acto) < 100):\n",
    "        print(f\"---- {acto}\")"
   ]
  },
  {
   "cell_type": "markdown",
   "id": "274a89a2",
   "metadata": {},
   "source": [
    "## Sanciones"
   ]
  },
  {
   "cell_type": "code",
   "execution_count": 6,
   "id": "e376e4bf",
   "metadata": {},
   "outputs": [
    {
     "name": "stdout",
     "output_type": "stream",
     "text": [
      "Existen 4 sanciones diferentes, y cada sancionado puede tener una lista de estas\n",
      "---- I\n",
      "---- M\n",
      "---- O\n",
      "---- SE\n"
     ]
    },
    {
     "data": {
      "text/plain": [
       "'\\nTipo de sanción aplicada. Valores permitidos:\\nI = INHABILITADO\\nM = MULTADO\\nS= SUSPENSIÓN DEL EMPLEO, CARGO O COMISIÓN\\nD= DESTITUCIÓN DEL EMPLEO, CARGO O COMISIÓN\\nO= OTRO\\nIRSC= INDEMNIZACIÓN RESARCITORIA\\nSE= SANCIÓN ECONÓMICA\\n'"
      ]
     },
     "execution_count": 6,
     "metadata": {},
     "output_type": "execute_result"
    }
   ],
   "source": [
    "sanciones = []\n",
    "for index,row in total_df.iterrows():\n",
    "    tipo_sanciones = row['tipoSancion']\n",
    "    if(type(tipo_sanciones) != float):\n",
    "        for tipo in tipo_sanciones:\n",
    "            if('clave' in tipo):\n",
    "                sanciones.append(tipo['clave'])\n",
    "            else:\n",
    "                sanciones.append(\"Dato no proporcionado\")\n",
    "    else:\n",
    "        sanciones.append(\"Dato no proporcionado\")\n",
    "\n",
    "print(f\"Existen {len(np.unique(sanciones))} sanciones diferentes, y cada sancionado puede tener una lista de estas\")\n",
    "for sancion in np.unique(sanciones):\n",
    "    print(f\"---- {sancion}\")\n",
    "    \n",
    "'''\n",
    "Tipo de sanción aplicada. Valores permitidos:\n",
    "I = INHABILITADO\n",
    "M = MULTADO\n",
    "S= SUSPENSIÓN DEL EMPLEO, CARGO O COMISIÓN\n",
    "D= DESTITUCIÓN DEL EMPLEO, CARGO O COMISIÓN\n",
    "O= OTRO\n",
    "IRSC= INDEMNIZACIÓN RESARCITORIA\n",
    "SE= SANCIÓN ECONÓMICA\n",
    "'''"
   ]
  },
  {
   "cell_type": "markdown",
   "id": "01dfdaf5",
   "metadata": {},
   "source": [
    "## Estadísticas multa\n"
   ]
  },
  {
   "cell_type": "code",
   "execution_count": 7,
   "id": "cece8d14",
   "metadata": {},
   "outputs": [
    {
     "data": {
      "image/png": "[encoded data removed]",
      "text/plain": [
       "<Figure size 640x480 with 1 Axes>"
      ]
     },
     "metadata": {},
     "output_type": "display_data"
    }
   ],
   "source": [
    "multas = []\n",
    "for index,row in total_df.iterrows():\n",
    "    multa = row['multa']\n",
    "    if(type(multa) != float):\n",
    "        if('monto' in multa):\n",
    "            if(multa['monto'] is not None):\n",
    "                multas.append(multa['monto'])\n",
    "\n",
    "\n",
    "multas = np.array(multas)\n",
    "multas = multas[np.where(multas > 0)]\n",
    "log_multas = np.log10(multas)\n",
    "\n",
    "promedio_log = np.mean(log_multas)\n",
    "std_log = np.std(log_multas)\n",
    "# Crear el histograma\n",
    "plt.figure()\n",
    "sns.histplot(log_multas, bins=30, color='black')\n",
    "plt.axvline(promedio_log, color='red', linestyle='--', label=f'Promedio: {promedio_log:.2f}')\n",
    "plt.axvline(promedio_log - std_log, color='green', linestyle='--', label=f'-1 STD: {promedio_log - std_log:.2f}')\n",
    "plt.axvline(promedio_log + std_log, color='orange', linestyle='--', label=f'+1 STD: {promedio_log + std_log:.2f}')\n",
    "\n",
    "# Personalizar el gráfico\n",
    "plt.title(\"Histograma de multas en escala logarítmica\")\n",
    "plt.xlabel(\"Log10(Multas) = 10^(valor)\")\n",
    "plt.ylabel(\"Frecuencia\")\n",
    "plt.legend()\n",
    "plt.show()"
   ]
  },
  {
   "cell_type": "markdown",
   "id": "f67b258e",
   "metadata": {},
   "source": [
    "## Inhabilitación"
   ]
  },
  {
   "cell_type": "code",
   "execution_count": 8,
   "id": "0d2b9c61",
   "metadata": {},
   "outputs": [
    {
     "data": {
      "image/png": "[encoded data removed]",
      "text/plain": [
       "<Figure size 640x480 with 1 Axes>"
      ]
     },
     "metadata": {},
     "output_type": "display_data"
    }
   ],
   "source": [
    "duraciones = []\n",
    "for index,row in total_df.iterrows():\n",
    "    inhabilitacion = row['inhabilitacion']\n",
    "    if(type(inhabilitacion) != float):\n",
    "        if('fechaInicial' in inhabilitacion and 'fechaFinal' in inhabilitacion and 'plazo' in inhabilitacion):\n",
    "            if(inhabilitacion['fechaInicial'] != \"-\" and inhabilitacion['fechaInicial'] != \" \" and inhabilitacion['fechaFinal'] != \"-\" and inhabilitacion['fechaFinal'] != \" \"):\n",
    "                try:\n",
    "                    fechaInicial = pd.to_datetime(inhabilitacion['fechaInicial'])\n",
    "                    fechaFinal = pd.to_datetime(inhabilitacion['fechaFinal'])\n",
    "                    duracion = (fechaFinal - fechaInicial).days\n",
    "                    if(type(duracion) != float):\n",
    "                        duraciones.append(duracion)\n",
    "                except Exception as e:\n",
    "                    pass\n",
    "            elif(inhabilitacion['plazo'] != 'Dato no proporcionado'):\n",
    "                duraciones.append(inhabilitacion['plazo'])\n",
    "\n",
    "\n",
    "promedio = np.mean(duraciones)\n",
    "std = np.std(duraciones)\n",
    "plt.figure()\n",
    "sns.histplot(duraciones, bins=30, color='black')\n",
    "plt.axvline(promedio, color='red', linestyle='--', label=f'Promedio: {promedio:.2f}')\n",
    "plt.axvline(promedio - std, color='green', linestyle='--', label=f'-1 STD: {promedio - std:.2f}')\n",
    "plt.axvline(promedio + std, color='orange', linestyle='--', label=f'+1 STD: {promedio + std:.2f}')\n",
    "\n",
    "# Personalizar el gráfico\n",
    "plt.title(\"Histograma de días de inhabilitacion\")\n",
    "plt.xlabel(\"Tiempo en días\")\n",
    "plt.ylabel(\"Frecuencia\")\n",
    "plt.legend()\n",
    "plt.show()"
   ]
  }
 ],
 "metadata": {
  "kernelspec": {
   "display_name": "Python 3",
   "language": "python",
   "name": "python3"
  },
  "language_info": {
   "codemirror_mode": {
    "name": "ipython",
    "version": 3
   },
   "file_extension": ".py",
   "mimetype": "text/x-python",
   "name": "python",
   "nbconvert_exporter": "python",
   "pygments_lexer": "ipython3",
   "version": "3.10.11"
  }
 },
 "nbformat": 4,
 "nbformat_minor": 5
}
